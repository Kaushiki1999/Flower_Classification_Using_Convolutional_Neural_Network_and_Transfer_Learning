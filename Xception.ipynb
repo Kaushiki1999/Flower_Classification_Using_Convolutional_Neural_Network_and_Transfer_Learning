{
 "cells": [
  {
   "cell_type": "code",
   "execution_count": null,
   "metadata": {
    "colab": {
     "base_uri": "https://localhost:8080/"
    },
    "id": "V17hYA0rjrsD",
    "outputId": "95744c31-6655-420c-9e13-141de16dfa96"
   },
   "outputs": [],
   "source": [
    "from google.colab import drive\n",
    "drive.mount('/content/drive')"
   ]
  },
  {
   "cell_type": "code",
   "execution_count": null,
   "metadata": {
    "id": "guz-37h4j2Ad"
   },
   "outputs": [],
   "source": [
    "train_dir=(f\"/content/drive/MyDrive/Major/flowers/flowers\")"
   ]
  },
  {
   "cell_type": "code",
   "execution_count": null,
   "metadata": {
    "id": "1huGvdupj3DW"
   },
   "outputs": [],
   "source": [
    "import tensorflow as tf\n",
    "import matplotlib.pyplot as plt\n",
    "import numpy as np\n",
    "import seaborn as sns"
   ]
  },
  {
   "cell_type": "code",
   "execution_count": null,
   "metadata": {
    "id": "CoURil7bj5Um"
   },
   "outputs": [],
   "source": [
    "def data_augment(image):\n",
    "  p_spatial =tf.random.uniform([],0,1.0, dtype=tf.float32)\n",
    "  p_rotate =tf.random.uniform([],0,1.0, dtype=tf.float32)\n",
    "  p_pixel_1 =tf.random.uniform([],0,1.0, dtype=tf.float32)\n",
    "  p_pixel_2 =tf.random.uniform([],0,1.0, dtype=tf.float32)\n",
    "  p_pixel_3 =tf.random.uniform([],0,1.0, dtype=tf.float32)\n",
    "\n",
    "  #Flips\n",
    "  image=tf.image.random_flip_left_right(image)\n",
    "  image=tf.image.random_flip_up_down(image)\n",
    "\n",
    "  if p_spatial >0.75:\n",
    "    image=tf.image.transpose(image)\n",
    "\n",
    "  #Rotates\n",
    "  if p_rotate> 0.75:\n",
    "    image=tf.image.rot90(image,k=3) #rotate 270\n",
    "  elif p_rotate > 0.5:\n",
    "    image=tf.image.rot90(image,k=2) #rotate 180\n",
    "  elif p_rotate > 0.25:\n",
    "    image=tf.image.rot90(image,k=1) #rotate 90\n",
    "\n",
    "  #Pixel_Level tramsform:\n",
    "  if p_pixel_1>= 0.4:\n",
    "     image=tf.image.random_saturation(image,lower=0.7,upper=1.3)\n",
    "  if p_pixel_2>= 0.4:\n",
    "     image=tf.image.random_contrast(image,lower=0.8,upper=1.2)\n",
    "  if p_pixel_3>= 0.4:\n",
    "     image=tf.image.random_brightness(image, max_delta=0.1)\n",
    "\n",
    "  return image"
   ]
  },
  {
   "cell_type": "code",
   "execution_count": null,
   "metadata": {
    "colab": {
     "base_uri": "https://localhost:8080/"
    },
    "id": "kepHMBVjkDtu",
    "outputId": "e0f9272b-15bb-495a-c4e2-f4a1fd45eaca"
   },
   "outputs": [],
   "source": [
    "#import tensorflow as tf\n",
    "from tensorflow.keras.preprocessing.image import ImageDataGenerator\n",
    "tf.random.set_seed(42)\n",
    "train_datagen=ImageDataGenerator(rescale=1/255.,\n",
    "                                 validation_split= 0.2,\n",
    "                                 preprocessing_function =data_augment\n",
    "                                 )\n",
    "# test_datagen =ImageDataGenerator(rescale=1/255.)\n",
    "\n",
    "train_data= train_datagen.flow_from_directory(train_dir,target_size=(224,224), subset=\"training\",batch_size=64)\n",
    "test_data= train_datagen.flow_from_directory(train_dir,target_size=(224,224), subset=\"validation\",batch_size=64,shuffle=False)"
   ]
  },
  {
   "cell_type": "code",
   "execution_count": null,
   "metadata": {
    "id": "x_o2q6zUkLFl"
   },
   "outputs": [],
   "source": [
    "from keras.layers import Flatten,Dense, Conv2D, AveragePooling2D, Dropout, MaxPool2D, Rescaling ,BatchNormalization, Activation,GlobalAveragePooling2D\n",
    "from tensorflow.keras.optimizers import SGD, Adam"
   ]
  },
  {
   "cell_type": "code",
   "execution_count": null,
   "metadata": {
    "colab": {
     "base_uri": "https://localhost:8080/"
    },
    "id": "AhLQGQH4kQYF",
    "outputId": "b2a86aa6-f94c-42e0-adf6-a590bcf65a2a"
   },
   "outputs": [],
   "source": [
    "#copy the  predefind model and use imagenet weight\n",
    "base_model = tf.keras.applications.xception.Xception(weights=\"imagenet\",\n",
    " include_top=False)\n",
    "#use global average layer\n",
    "avg =tf.keras.layers.GlobalAveragePooling2D()(base_model.output)\n",
    "# use hidden layer of 24 neuron\n",
    "layer = tf.keras.layers.Dense(20, activation=\"selu\")(avg)\n",
    "layer = tf.keras.layers.Dropout(0.5)(layer)\n",
    "output = tf.keras.layers.Dense(5, activation=\"softmax\")(layer)\n",
    "model_imagnet = tf.keras.models.Model(inputs=base_model.input, outputs=output)"
   ]
  },
  {
   "cell_type": "code",
   "execution_count": null,
   "metadata": {
    "id": "wcBYsVOVkXWs"
   },
   "outputs": [],
   "source": [
    "#first freez the weight of predefind model\n",
    "for layer in base_model.layers:\n",
    "  layer.trainable = False"
   ]
  },
  {
   "cell_type": "code",
   "execution_count": null,
   "metadata": {
    "id": "7xKVSlFzkbHf"
   },
   "outputs": [],
   "source": [
    "#use Stochastic gradient optimizers\n",
    "opt = tf.keras.optimizers.SGD(learning_rate=0.0005,momentum=0.9,decay = 0.01)"
   ]
  },
  {
   "cell_type": "code",
   "execution_count": null,
   "metadata": {
    "id": "4MsBswAWkcBF"
   },
   "outputs": [],
   "source": [
    "model_imagnet.compile(optimizer=opt, loss = \"categorical_crossentropy\", metrics=['accuracy'])"
   ]
  },
  {
   "cell_type": "code",
   "execution_count": null,
   "metadata": {
    "colab": {
     "base_uri": "https://localhost:8080/"
    },
    "id": "wXeA4vPOkizd",
    "outputId": "c81fb810-4ee6-453b-9dde-e2b2faa0cce9"
   },
   "outputs": [],
   "source": [
    "history_imgnet = model_imagnet.fit(train_data,\n",
    "                    epochs=10,\n",
    "                    validation_data=test_data)"
   ]
  },
  {
   "cell_type": "code",
   "execution_count": null,
   "metadata": {
    "id": "9kNXsvu2kk1m"
   },
   "outputs": [],
   "source": [
    "earlystopping=tf.keras.callbacks.EarlyStopping(monitor = 'val_accuracy',\n",
    "                                               min_delta =1e-4,\n",
    "                                               patience=8,\n",
    "                                               mode='max',\n",
    "                                               restore_best_weights =True,\n",
    "                                               verbose=1)\n",
    "callbacks=[earlystopping]"
   ]
  },
  {
   "cell_type": "code",
   "execution_count": null,
   "metadata": {
    "id": "idHjvqNTkpp-"
   },
   "outputs": [],
   "source": [
    "for layer in base_model.layers:\n",
    "  layer.trainable = True"
   ]
  },
  {
   "cell_type": "code",
   "execution_count": null,
   "metadata": {
    "id": "mhzkQJZgkruO"
   },
   "outputs": [],
   "source": [
    "opt = tf.keras.optimizers.Adam(\n",
    "    learning_rate=0.0001,\n",
    "    beta_1=0.9,\n",
    "    beta_2=0.999,\n",
    "    epsilon=1e-07)"
   ]
  },
  {
   "cell_type": "code",
   "execution_count": null,
   "metadata": {
    "id": "4tVthshQkve-"
   },
   "outputs": [],
   "source": [
    "model_imagnet.compile(optimizer=opt, loss = \"categorical_crossentropy\", metrics=['accuracy'])"
   ]
  },
  {
   "cell_type": "code",
   "execution_count": null,
   "metadata": {
    "colab": {
     "base_uri": "https://localhost:8080/"
    },
    "id": "FLD-i_M_kwXM",
    "outputId": "a6b08d98-d1b3-4dc7-9ffb-71bd98ab9a28"
   },
   "outputs": [],
   "source": [
    "history_imgnet1 = model_imagnet.fit(train_data,\n",
    "                    epochs=50,\n",
    "                    validation_data=test_data,\n",
    "                    callbacks=callbacks\n",
    "                    )"
   ]
  },
  {
   "cell_type": "code",
   "execution_count": null,
   "metadata": {
    "id": "UhMeBxw0zZ2s"
   },
   "outputs": [],
   "source": [
    "model_imagnet.save(\"/content/drive/MyDrive/Major/flowers/model_save\")"
   ]
  },
  {
   "cell_type": "code",
   "execution_count": null,
   "metadata": {
    "id": "N4259mN4zFxZ"
   },
   "outputs": [],
   "source": [
    "tf.keras.models.save_model(model_imagnet,\"/content/drive/MyDrive/Major/flowers/model_imagenet\")"
   ]
  },
  {
   "cell_type": "code",
   "execution_count": null,
   "metadata": {
    "colab": {
     "base_uri": "https://localhost:8080/",
     "height": 283
    },
    "id": "Nv52wbtek4KN",
    "outputId": "6c742325-ee68-498d-a4dc-e5ae286b4f98"
   },
   "outputs": [],
   "source": [
    "import matplotlib.pyplot as plt\n",
    "l = len(history_imgnet.history[\"loss\"])+len(history_imgnet1.history[\"loss\"])\n",
    "t_acc = history_imgnet.history[\"accuracy\"]+history_imgnet1.history[\"accuracy\"]\n",
    "v_acc = history_imgnet.history[\"val_accuracy\"]+history_imgnet1.history[\"val_accuracy\"]\n",
    "plt.plot([x for x in range(1,l+1)],t_acc,c=\"red\")\n",
    "plt.plot([x for x in range(1,l+1)],v_acc,c=\"green\")"
   ]
  },
  {
   "cell_type": "code",
   "execution_count": null,
   "metadata": {
    "colab": {
     "base_uri": "https://localhost:8080/",
     "height": 283
    },
    "id": "Hsi4HDYok481",
    "outputId": "0c2a00e1-76f3-4714-e8e6-a0a01cfebd2d"
   },
   "outputs": [],
   "source": [
    "t_loss = history_imgnet.history[\"loss\"]+history_imgnet1.history[\"loss\"]\n",
    "v_loss = history_imgnet.history[\"val_loss\"]+history_imgnet1.history[\"val_loss\"]\n",
    "plt.plot([x for x in range(1,l+1)],t_loss,c=\"red\")\n",
    "plt.plot([x for x in range(1,l+1)],v_loss,c=\"green\")"
   ]
  },
  {
   "cell_type": "code",
   "execution_count": null,
   "metadata": {
    "colab": {
     "base_uri": "https://localhost:8080/"
    },
    "id": "BNQFtQCllDWU",
    "outputId": "8824cd8e-d5fd-4efa-8859-a039f2dc12bd"
   },
   "outputs": [],
   "source": [
    "from sklearn.metrics import classification_report, confusion_matrix\n",
    "predicted_classes=np.argmax(model_imagnet.predict(test_data, steps=test_data.n // test_data.batch_size+1), axis=-1)\n",
    "true_classes=test_data.classes\n",
    "#class_labels=list(test_data.class_indices.keys())\n",
    "\n",
    "confusionmatrix=tf.math.confusion_matrix(true_classes,predicted_classes)\n",
    "plt.figure(figsize=(16,16))\n",
    "sns.heatmap(confusionmatrix, cmap='Blues', annot =True ,cbar=True)\n",
    "\n",
    "print(classification_report(true_classes,predicted_classes))"
   ]
  }
 ],
 "metadata": {
  "accelerator": "GPU",
  "colab": {
   "provenance": []
  },
  "gpuClass": "standard",
  "kernelspec": {
   "display_name": "Python 3 (ipykernel)",
   "language": "python",
   "name": "python3"
  },
  "language_info": {
   "codemirror_mode": {
    "name": "ipython",
    "version": 3
   },
   "file_extension": ".py",
   "mimetype": "text/x-python",
   "name": "python",
   "nbconvert_exporter": "python",
   "pygments_lexer": "ipython3",
   "version": "3.9.12"
  }
 },
 "nbformat": 4,
 "nbformat_minor": 1
}
