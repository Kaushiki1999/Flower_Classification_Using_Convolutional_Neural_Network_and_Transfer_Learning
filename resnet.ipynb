{
 "cells": [
  {
   "cell_type": "code",
   "execution_count": null,
   "metadata": {
    "colab": {
     "base_uri": "https://localhost:8080/"
    },
    "id": "nh3-WwBeT9x8",
    "outputId": "bbafc49a-3f03-4868-f687-3396e25316b3"
   },
   "outputs": [],
   "source": [
    "from google.colab import drive\n",
    "drive.mount('/content/drive')"
   ]
  },
  {
   "cell_type": "code",
   "execution_count": null,
   "metadata": {
    "id": "gfKxKLnbUX8o"
   },
   "outputs": [],
   "source": [
    "train_dir=(f\"/content/drive/MyDrive/Major/flowers/flowers\")"
   ]
  },
  {
   "cell_type": "code",
   "execution_count": null,
   "metadata": {
    "id": "C4qXrEyfUtdu"
   },
   "outputs": [],
   "source": [
    "import tensorflow as tf\n",
    "import matplotlib.pyplot as plt\n",
    "import numpy as np\n",
    "import seaborn as sns\n",
    "import tensorflow_hub as hub\n",
    "from keras.layers import Flatten,Dense, Conv2D, AveragePooling2D, Dropout, MaxPool2D, Rescaling ,BatchNormalization, Activation\n",
    "from tensorflow.keras.optimizers import SGD, Adam"
   ]
  },
  {
   "cell_type": "code",
   "execution_count": null,
   "metadata": {
    "colab": {
     "base_uri": "https://localhost:8080/"
    },
    "id": "rTQ9fRZjVHoR",
    "outputId": "1ce73dc3-f4db-409c-9ce3-b0a402256100"
   },
   "outputs": [],
   "source": [
    "#import tensorflow as tf\n",
    "from tensorflow.keras.preprocessing.image import ImageDataGenerator\n",
    "tf.random.set_seed(42)\n",
    "train_datagen=ImageDataGenerator(rescale=1/255.,\n",
    "                                 validation_split= 0.2\n",
    "                                 )\n",
    "# test_datagen =ImageDataGenerator(rescale=1/255.)\n",
    "\n",
    "train_data= train_datagen.flow_from_directory(train_dir,target_size=(224,224), subset=\"training\")\n",
    "test_data= train_datagen.flow_from_directory(train_dir,target_size=(224,224), subset=\"validation\", shuffle=False)"
   ]
  },
  {
   "cell_type": "code",
   "execution_count": null,
   "metadata": {
    "colab": {
     "base_uri": "https://localhost:8080/",
     "height": 1000
    },
    "id": "tAieVIZBnMnU",
    "outputId": "0833acec-338c-4486-f9a9-f146862e1987"
   },
   "outputs": [],
   "source": [
    "x= train_data.next()\n",
    "for i in range(18,22):\n",
    "  image=x[0][i]\n",
    "  plt.imshow(image)\n",
    "  plt.show()"
   ]
  },
  {
   "cell_type": "code",
   "execution_count": null,
   "metadata": {
    "id": "-doRYcTYVPSL"
   },
   "outputs": [],
   "source": [
    "resnet_url=\"https://tfhub.dev/google/imagenet/resnet_v2_50/feature_vector/5\""
   ]
  },
  {
   "cell_type": "code",
   "execution_count": null,
   "metadata": {
    "id": "intxZBrNVesV"
   },
   "outputs": [],
   "source": [
    "IMG_SHAPE=(224,224)\n",
    "model_resnet=tf.keras.models.Sequential([\n",
    "                         hub.KerasLayer(resnet_url,\n",
    "                                        trainable=False,\n",
    "                                        name=\"feature_extractor_layer\",\n",
    "                                        input_shape=IMG_SHAPE+(3,)),\n",
    "                         Dense(5,activation=\"softmax\",name=\"output_layer\")\n",
    "])"
   ]
  },
  {
   "cell_type": "code",
   "execution_count": null,
   "metadata": {
    "colab": {
     "base_uri": "https://localhost:8080/"
    },
    "id": "xEQdf9pG5KW3",
    "outputId": "b4ba8421-c8ed-4187-d975-4068f8bfef02"
   },
   "outputs": [],
   "source": [
    "model_resnet.summary()"
   ]
  },
  {
   "cell_type": "code",
   "execution_count": null,
   "metadata": {
    "id": "gIkXtbpjVjsR"
   },
   "outputs": [],
   "source": [
    "earlystopping=tf.keras.callbacks.EarlyStopping(monitor = 'val_accuracy',\n",
    "                                               min_delta =1e-4,\n",
    "                                               patience=5,\n",
    "                                               mode='max',\n",
    "                                               restore_best_weights =True,\n",
    "                                               verbose=1)\n",
    "callbacks=[earlystopping]"
   ]
  },
  {
   "cell_type": "code",
   "execution_count": null,
   "metadata": {
    "id": "zPyW1OvuV13r"
   },
   "outputs": [],
   "source": [
    "model_resnet.compile(loss=\"categorical_crossentropy\",\n",
    "                     optimizer=Adam(),\n",
    "                     metrics=['accuracy'])"
   ]
  },
  {
   "cell_type": "code",
   "execution_count": null,
   "metadata": {
    "colab": {
     "background_save": true,
     "base_uri": "https://localhost:8080/"
    },
    "id": "uEtclo6AV4cl",
    "outputId": "1892b00e-d103-429b-b315-9eb72c2672d4"
   },
   "outputs": [],
   "source": [
    "history_resnet = model_resnet.fit(train_data,steps_per_epoch=len(train_data),\n",
    "                    epochs=10,\n",
    "                    validation_data=test_data,\n",
    "                    validation_steps=len(test_data),\n",
    "                    callbacks=callbacks,\n",
    "                    batch_size=32)"
   ]
  },
  {
   "cell_type": "code",
   "execution_count": null,
   "metadata": {
    "id": "wqE9-HDUB1WD"
   },
   "outputs": [],
   "source": [
    "IMG_SHAPE=(224,224)\n",
    "model_resnet1=tf.keras.models.Sequential([\n",
    "                         hub.KerasLayer(resnet_url,\n",
    "                                        trainable=True,\n",
    "                                        name=\"feature_extractor_layer\",\n",
    "                                        input_shape=IMG_SHAPE+(3,)),\n",
    "                         Dense(5,activation=\"softmax\",name=\"output_layer\")\n",
    "])"
   ]
  },
  {
   "cell_type": "code",
   "execution_count": null,
   "metadata": {
    "id": "iUc1CNsrB_Xa"
   },
   "outputs": [],
   "source": [
    "earlystopping=tf.keras.callbacks.EarlyStopping(monitor = 'val_accuracy',\n",
    "                                               min_delta =1e-4,\n",
    "                                               patience=5,\n",
    "                                               mode='max',\n",
    "                                               restore_best_weights =True,\n",
    "                                               verbose=1)\n",
    "callbacks=[earlystopping]"
   ]
  },
  {
   "cell_type": "code",
   "execution_count": null,
   "metadata": {
    "id": "jKRTLThxCGRF"
   },
   "outputs": [],
   "source": [
    "model_resnet1.compile(loss=\"categorical_crossentropy\",\n",
    "                     optimizer=Adam(),\n",
    "                     metrics=['accuracy'])"
   ]
  },
  {
   "cell_type": "code",
   "execution_count": null,
   "metadata": {
    "id": "2NewEKAeCL-y"
   },
   "outputs": [],
   "source": [
    "history_resnet1 = model_resnet1.fit(train_data,steps_per_epoch=len(train_data),\n",
    "                    epochs=30,\n",
    "                    validation_data=test_data,\n",
    "                    validation_steps=len(test_data),\n",
    "                    callbacks=callbacks,\n",
    "                    batch_size=32)"
   ]
  },
  {
   "cell_type": "code",
   "execution_count": null,
   "metadata": {
    "id": "y-sRsLUnHpCZ"
   },
   "outputs": [],
   "source": [
    "import matplotlib.pyplot as plt\n",
    "l = len(history_resnet.history[\"loss\"])+len(history_resnet1.history[\"loss\"])\n",
    "t_acc = history_resnet.history[\"accuracy\"]+history_resnet1.history[\"accuracy\"]\n",
    "v_acc = history_resnet.history[\"val_accuracy\"]+history_resnet1.history[\"val_accuracy\"]\n",
    "plt.plot([x for x in range(1,l+1)],t_acc,c=\"red\")\n",
    "plt.plot([x for x in range(1,l+1)],v_acc,c=\"green\")"
   ]
  },
  {
   "cell_type": "code",
   "execution_count": null,
   "metadata": {
    "id": "0tYCb2FbA2IJ"
   },
   "outputs": [],
   "source": [
    "t_loss = history_resnet.history[\"loss\"]+history_resnet1.history[\"loss\"]\n",
    "v_loss = history_resnet.history[\"val_loss\"]+history_resnet1.history[\"val_loss\"]\n",
    "plt.plot([x for x in range(1,l+1)],t_loss,c=\"red\",label=\"Training Loss\")\n",
    "plt.plot([x for x in range(1,l+1)],v_loss,c=\"green\",label=\"Validation Loss\")\n",
    "plt.legend(loc='upper right')\n"
   ]
  },
  {
   "cell_type": "code",
   "execution_count": null,
   "metadata": {
    "id": "HyQPOG-CmTJG"
   },
   "outputs": [],
   "source": [
    "model_resnet.predict(test_data)"
   ]
  },
  {
   "cell_type": "code",
   "execution_count": null,
   "metadata": {
    "id": "IRDzqvTjmpio"
   },
   "outputs": [],
   "source": [
    "predicted_classes=np.argmax(model_resnet.predict(test_data, steps=test_data.n // test_data.batch_size+1), axis=1)\n",
    "predicted_classes"
   ]
  },
  {
   "cell_type": "code",
   "execution_count": null,
   "metadata": {
    "id": "uONW6ipJlJ7r"
   },
   "outputs": [],
   "source": [
    "from sklearn.metrics import classification_report, confusion_matrix\n",
    "predicted_classes=np.argmax(model_resnet.predict(test_data, steps=test_data.n // test_data.batch_size+1), axis=-1)\n",
    "true_classes=test_data.classes\n",
    "#class_labels=list(test_data.class_indices.keys())\n",
    "\n",
    "confusionmatrix=tf.math.confusion_matrix(true_classes,predicted_classes)\n",
    "plt.figure(figsize=(16,16))\n",
    "sns.heatmap(confusionmatrix, cmap='Blues', annot =True ,cbar=True)\n",
    "\n",
    "print(classification_report(true_classes,predicted_classes))"
   ]
  }
 ],
 "metadata": {
  "accelerator": "GPU",
  "colab": {
   "provenance": []
  },
  "gpuClass": "standard",
  "kernelspec": {
   "display_name": "Python 3 (ipykernel)",
   "language": "python",
   "name": "python3"
  },
  "language_info": {
   "codemirror_mode": {
    "name": "ipython",
    "version": 3
   },
   "file_extension": ".py",
   "mimetype": "text/x-python",
   "name": "python",
   "nbconvert_exporter": "python",
   "pygments_lexer": "ipython3",
   "version": "3.9.12"
  }
 },
 "nbformat": 4,
 "nbformat_minor": 1
}
